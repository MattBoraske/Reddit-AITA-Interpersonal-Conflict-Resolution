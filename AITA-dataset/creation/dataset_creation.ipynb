{
 "cells": [
  {
   "cell_type": "markdown",
   "metadata": {},
   "source": [
    "# Reddit AITA Dataset Creation\n"
   ]
  },
  {
   "cell_type": "markdown",
   "metadata": {},
   "source": [
    "2 Input files created using datafile_filtering.py:\n",
    "1. AITA submissions .csv file\n",
    "2. Top level comments for the AITA submissions .csv file\n",
    "\n",
    "1 Output file:\n",
    "1. .csv file where each row is an AITA submission along with its top 10 comments"
   ]
  },
  {
   "cell_type": "markdown",
   "metadata": {},
   "source": [
    "## Prepare Environment"
   ]
  },
  {
   "cell_type": "code",
   "execution_count": null,
   "metadata": {},
   "outputs": [],
   "source": [
    "%pip install zstandard pandas"
   ]
  },
  {
   "cell_type": "code",
   "execution_count": null,
   "metadata": {},
   "outputs": [],
   "source": [
    "import pandas as pd\n",
    "import zstandard as zstd"
   ]
  },
  {
   "cell_type": "code",
   "execution_count": null,
   "metadata": {},
   "outputs": [],
   "source": [
    "%pwd"
   ]
  },
  {
   "cell_type": "markdown",
   "metadata": {},
   "source": [
    "## Creation of AITA submissions dataframe"
   ]
  },
  {
   "cell_type": "code",
   "execution_count": null,
   "metadata": {},
   "outputs": [],
   "source": [
    "# load submissions csv\n",
    "\n",
    "submissions_df = pd.read_csv('aita-datafiles/2022/submissions_2022_score_50.csv')"
   ]
  },
  {
   "cell_type": "code",
   "execution_count": null,
   "metadata": {},
   "outputs": [],
   "source": [
    "submissions_df"
   ]
  },
  {
   "cell_type": "code",
   "execution_count": null,
   "metadata": {},
   "outputs": [],
   "source": [
    "# rename columns so that they better reflect their data\n",
    "\n",
    "submissions_df = submissions_df.rename(columns={'id': 'submission_id',\n",
    "                                      'score': 'submission_score',\n",
    "                                      'title': 'submission_title',\n",
    "                                      'selftext': 'submission_text',\n",
    "                                      'url': 'submission_url'})"
   ]
  },
  {
   "cell_type": "code",
   "execution_count": null,
   "metadata": {},
   "outputs": [],
   "source": [
    "submissions_df"
   ]
  },
  {
   "cell_type": "markdown",
   "metadata": {},
   "source": [
    "## Creation of AITA comments dataframe"
   ]
  },
  {
   "cell_type": "code",
   "execution_count": null,
   "metadata": {},
   "outputs": [],
   "source": [
    "# load comments csv\n",
    "\n",
    "comments_df = pd.read_csv('aita-datafiles/2022/top_level_comments_2022_score_5_submission_score_50.csv')"
   ]
  },
  {
   "cell_type": "code",
   "execution_count": null,
   "metadata": {},
   "outputs": [],
   "source": [
    "# strip the t3_ from the link_id column\n",
    "\n",
    "comments_df['link_id'] = comments_df['link_id'].str.slice(3)"
   ]
  },
  {
   "cell_type": "code",
   "execution_count": null,
   "metadata": {},
   "outputs": [],
   "source": [
    "# rename columns so that they better reflect their data\n",
    "\n",
    "comments_df = comments_df.rename(columns={'id': 'comment_id',\n",
    "                                      'score': 'comment_score',\n",
    "                                      'body': 'comment_text'})"
   ]
  },
  {
   "cell_type": "markdown",
   "metadata": {},
   "source": [
    "## Merging of AITA submission and comments dataframes"
   ]
  },
  {
   "cell_type": "code",
   "execution_count": null,
   "metadata": {},
   "outputs": [],
   "source": [
    "# Create a dataframe of the top 10 comments for each submission\n",
    "\n",
    "merged_df = submissions_df.merge(comments_df, left_on='submission_id', right_on='link_id') # merge submission and top comments dataframes\n",
    "merged_df = merged_df.drop('link_id', axis=1) # remove link_id column\n",
    "top_10_comments = merged_df.groupby('submission_id').apply(lambda x: x.nlargest(10, 'comment_score')['comment_text'].tolist()) # group by submission_id and get the top 10 comments for each submission\n",
    "top_10_comments_df = pd.DataFrame(top_10_comments.tolist(), index=top_10_comments.index).add_prefix('comment_')"
   ]
  },
  {
   "cell_type": "code",
   "execution_count": null,
   "metadata": {},
   "outputs": [],
   "source": [
    "# Merge submissions_df and top_10_comments_df on submission_id\n",
    "# Result is a dataframe with both submissions and their top 10 comments\n",
    "\n",
    "submissions_with_top_10_comments = submissions_df.merge(top_10_comments_df, on='submission_id')"
   ]
  },
  {
   "cell_type": "code",
   "execution_count": null,
   "metadata": {},
   "outputs": [],
   "source": [
    "# Convert UTC timestamps to datetime\n",
    "\n",
    "submissions_with_top_10_comments['created_utc'] = pd.to_datetime(submissions_with_top_10_comments['created_utc'], unit='s')\n"
   ]
  },
  {
   "cell_type": "code",
   "execution_count": null,
   "metadata": {},
   "outputs": [],
   "source": [
    "# Rename timestamp and top comment columns for improved clarity\n",
    "\n",
    "submissions_with_top_10_comments = submissions_with_top_10_comments.rename(columns={'created_utc': 'submission_date',\n",
    "                                                                                    'comment_0': 'top_comment_1',\n",
    "                                                                                    'comment_1': 'top_comment_2',\n",
    "                                                                                    'comment_2': 'top_comment_3',\n",
    "                                                                                    'comment_3': 'top_comment_4',\n",
    "                                                                                    'comment_4': 'top_comment_5',\n",
    "                                                                                    'comment_5': 'top_comment_6',\n",
    "                                                                                    'comment_6': 'top_comment_7',\n",
    "                                                                                    'comment_7': 'top_comment_8',\n",
    "                                                                                    'comment_8': 'top_comment_9',\n",
    "                                                                                    'comment_9': 'top_comment_10'})"
   ]
  },
  {
   "cell_type": "code",
   "execution_count": null,
   "metadata": {},
   "outputs": [],
   "source": [
    "# Remove submission_id column since it isn't important to the dataset\n",
    "\n",
    "submissions_with_top_10_comments = submissions_with_top_10_comments.drop('submission_id', axis=1)"
   ]
  },
  {
   "cell_type": "code",
   "execution_count": null,
   "metadata": {},
   "outputs": [],
   "source": [
    "# Swap submission_score and submission_text columns\n",
    "\n",
    "submissions_with_top_10_comments[['submission_score', 'submission_text']] = submissions_with_top_10_comments[['submission_text', 'submission_score']]\n",
    "submissions_with_top_10_comments = submissions_with_top_10_comments.rename(columns={'submission_score': 'submission_text', 'submission_text': 'submission_score'})"
   ]
  },
  {
   "cell_type": "code",
   "execution_count": null,
   "metadata": {},
   "outputs": [],
   "source": [
    "submissions_with_top_10_comments"
   ]
  },
  {
   "cell_type": "markdown",
   "metadata": {},
   "source": [
    "## Saving of Reddit AITA dataset"
   ]
  },
  {
   "cell_type": "code",
   "execution_count": null,
   "metadata": {},
   "outputs": [],
   "source": [
    "# save the dataframe as a csv\n",
    "output_file = 'aita-datafiles/2022/Reddit_AITA_2022_Raw.csv'\n",
    "submissions_with_top_10_comments.to_csv(output_file, index=False)"
   ]
  }
 ],
 "metadata": {
  "kernelspec": {
   "display_name": "Python 3",
   "language": "python",
   "name": "python3"
  },
  "language_info": {
   "codemirror_mode": {
    "name": "ipython",
    "version": 3
   },
   "file_extension": ".py",
   "mimetype": "text/x-python",
   "name": "python",
   "nbconvert_exporter": "python",
   "pygments_lexer": "ipython3",
   "version": "3.11.8"
  }
 },
 "nbformat": 4,
 "nbformat_minor": 2
}
