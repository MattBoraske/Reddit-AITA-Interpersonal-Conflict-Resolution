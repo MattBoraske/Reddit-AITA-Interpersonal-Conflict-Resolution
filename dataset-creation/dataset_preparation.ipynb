{
 "cells": [
  {
   "cell_type": "markdown",
   "metadata": {},
   "source": [
    "# Reddit AITA Dataset Preparation"
   ]
  },
  {
   "cell_type": "markdown",
   "metadata": {},
   "source": [
    "## Environment preparation"
   ]
  },
  {
   "cell_type": "code",
   "execution_count": 1,
   "metadata": {},
   "outputs": [
    {
     "name": "stdout",
     "output_type": "stream",
     "text": [
      "Requirement already satisfied: datasets in c:\\users\\mattb\\appdata\\local\\programs\\python\\python311\\lib\\site-packages (2.19.1)\n",
      "Requirement already satisfied: transformers in c:\\users\\mattb\\appdata\\local\\programs\\python\\python311\\lib\\site-packages (4.40.1)\n",
      "Requirement already satisfied: pandas in c:\\users\\mattb\\appdata\\local\\programs\\python\\python311\\lib\\site-packages (2.2.2)\n",
      "Requirement already satisfied: numpy in c:\\users\\mattb\\appdata\\local\\programs\\python\\python311\\lib\\site-packages (1.26.3)\n",
      "Requirement already satisfied: huggingface_hub in c:\\users\\mattb\\appdata\\local\\programs\\python\\python311\\lib\\site-packages (0.22.2)\n",
      "Requirement already satisfied: ipywidgets in c:\\users\\mattb\\appdata\\local\\programs\\python\\python311\\lib\\site-packages (8.1.2)\n",
      "Requirement already satisfied: filelock in c:\\users\\mattb\\appdata\\local\\programs\\python\\python311\\lib\\site-packages (from datasets) (3.13.1)\n",
      "Requirement already satisfied: pyarrow>=12.0.0 in c:\\users\\mattb\\appdata\\local\\programs\\python\\python311\\lib\\site-packages (from datasets) (16.1.0)\n",
      "Requirement already satisfied: pyarrow-hotfix in c:\\users\\mattb\\appdata\\local\\programs\\python\\python311\\lib\\site-packages (from datasets) (0.6)\n",
      "Requirement already satisfied: dill<0.3.9,>=0.3.0 in c:\\users\\mattb\\appdata\\local\\programs\\python\\python311\\lib\\site-packages (from datasets) (0.3.8)\n",
      "Requirement already satisfied: requests>=2.19.0 in c:\\users\\mattb\\appdata\\local\\programs\\python\\python311\\lib\\site-packages (from datasets) (2.31.0)\n",
      "Requirement already satisfied: tqdm>=4.62.1 in c:\\users\\mattb\\appdata\\local\\programs\\python\\python311\\lib\\site-packages (from datasets) (4.66.2)\n",
      "Requirement already satisfied: xxhash in c:\\users\\mattb\\appdata\\local\\programs\\python\\python311\\lib\\site-packages (from datasets) (3.4.1)\n",
      "Requirement already satisfied: multiprocess in c:\\users\\mattb\\appdata\\local\\programs\\python\\python311\\lib\\site-packages (from datasets) (0.70.16)\n",
      "Requirement already satisfied: fsspec<=2024.3.1,>=2023.1.0 in c:\\users\\mattb\\appdata\\local\\programs\\python\\python311\\lib\\site-packages (from fsspec[http]<=2024.3.1,>=2023.1.0->datasets) (2024.2.0)\n",
      "Requirement already satisfied: aiohttp in c:\\users\\mattb\\appdata\\local\\programs\\python\\python311\\lib\\site-packages (from datasets) (3.9.5)\n",
      "Requirement already satisfied: packaging in c:\\users\\mattb\\appdata\\roaming\\python\\python311\\site-packages (from datasets) (24.0)\n",
      "Requirement already satisfied: pyyaml>=5.1 in c:\\users\\mattb\\appdata\\local\\programs\\python\\python311\\lib\\site-packages (from datasets) (6.0.1)\n",
      "Requirement already satisfied: regex!=2019.12.17 in c:\\users\\mattb\\appdata\\local\\programs\\python\\python311\\lib\\site-packages (from transformers) (2024.4.16)\n",
      "Requirement already satisfied: tokenizers<0.20,>=0.19 in c:\\users\\mattb\\appdata\\local\\programs\\python\\python311\\lib\\site-packages (from transformers) (0.19.1)\n",
      "Requirement already satisfied: safetensors>=0.4.1 in c:\\users\\mattb\\appdata\\local\\programs\\python\\python311\\lib\\site-packages (from transformers) (0.4.3)\n",
      "Requirement already satisfied: python-dateutil>=2.8.2 in c:\\users\\mattb\\appdata\\roaming\\python\\python311\\site-packages (from pandas) (2.9.0.post0)\n",
      "Requirement already satisfied: pytz>=2020.1 in c:\\users\\mattb\\appdata\\local\\programs\\python\\python311\\lib\\site-packages (from pandas) (2024.1)\n",
      "Requirement already satisfied: tzdata>=2022.7 in c:\\users\\mattb\\appdata\\local\\programs\\python\\python311\\lib\\site-packages (from pandas) (2024.1)\n",
      "Requirement already satisfied: typing-extensions>=3.7.4.3 in c:\\users\\mattb\\appdata\\roaming\\python\\python311\\site-packages (from huggingface_hub) (4.11.0)\n",
      "Requirement already satisfied: comm>=0.1.3 in c:\\users\\mattb\\appdata\\roaming\\python\\python311\\site-packages (from ipywidgets) (0.2.2)\n",
      "Requirement already satisfied: ipython>=6.1.0 in c:\\users\\mattb\\appdata\\roaming\\python\\python311\\site-packages (from ipywidgets) (8.23.0)\n",
      "Requirement already satisfied: traitlets>=4.3.1 in c:\\users\\mattb\\appdata\\roaming\\python\\python311\\site-packages (from ipywidgets) (5.14.3)\n",
      "Requirement already satisfied: widgetsnbextension~=4.0.10 in c:\\users\\mattb\\appdata\\local\\programs\\python\\python311\\lib\\site-packages (from ipywidgets) (4.0.10)\n",
      "Requirement already satisfied: jupyterlab-widgets~=3.0.10 in c:\\users\\mattb\\appdata\\local\\programs\\python\\python311\\lib\\site-packages (from ipywidgets) (3.0.10)\n",
      "Requirement already satisfied: aiosignal>=1.1.2 in c:\\users\\mattb\\appdata\\local\\programs\\python\\python311\\lib\\site-packages (from aiohttp->datasets) (1.3.1)\n",
      "Requirement already satisfied: attrs>=17.3.0 in c:\\users\\mattb\\appdata\\local\\programs\\python\\python311\\lib\\site-packages (from aiohttp->datasets) (23.2.0)\n",
      "Requirement already satisfied: frozenlist>=1.1.1 in c:\\users\\mattb\\appdata\\local\\programs\\python\\python311\\lib\\site-packages (from aiohttp->datasets) (1.4.1)\n",
      "Requirement already satisfied: multidict<7.0,>=4.5 in c:\\users\\mattb\\appdata\\local\\programs\\python\\python311\\lib\\site-packages (from aiohttp->datasets) (6.0.5)\n",
      "Requirement already satisfied: yarl<2.0,>=1.0 in c:\\users\\mattb\\appdata\\local\\programs\\python\\python311\\lib\\site-packages (from aiohttp->datasets) (1.9.4)\n",
      "Requirement already satisfied: decorator in c:\\users\\mattb\\appdata\\roaming\\python\\python311\\site-packages (from ipython>=6.1.0->ipywidgets) (5.1.1)\n",
      "Requirement already satisfied: jedi>=0.16 in c:\\users\\mattb\\appdata\\roaming\\python\\python311\\site-packages (from ipython>=6.1.0->ipywidgets) (0.19.1)\n",
      "Requirement already satisfied: matplotlib-inline in c:\\users\\mattb\\appdata\\roaming\\python\\python311\\site-packages (from ipython>=6.1.0->ipywidgets) (0.1.7)\n",
      "Requirement already satisfied: prompt-toolkit<3.1.0,>=3.0.41 in c:\\users\\mattb\\appdata\\roaming\\python\\python311\\site-packages (from ipython>=6.1.0->ipywidgets) (3.0.43)\n",
      "Requirement already satisfied: pygments>=2.4.0 in c:\\users\\mattb\\appdata\\roaming\\python\\python311\\site-packages (from ipython>=6.1.0->ipywidgets) (2.17.2)\n",
      "Requirement already satisfied: stack-data in c:\\users\\mattb\\appdata\\roaming\\python\\python311\\site-packages (from ipython>=6.1.0->ipywidgets) (0.6.3)\n",
      "Requirement already satisfied: colorama in c:\\users\\mattb\\appdata\\roaming\\python\\python311\\site-packages (from ipython>=6.1.0->ipywidgets) (0.4.6)\n",
      "Requirement already satisfied: six>=1.5 in c:\\users\\mattb\\appdata\\roaming\\python\\python311\\site-packages (from python-dateutil>=2.8.2->pandas) (1.16.0)\n",
      "Requirement already satisfied: charset-normalizer<4,>=2 in c:\\users\\mattb\\appdata\\local\\programs\\python\\python311\\lib\\site-packages (from requests>=2.19.0->datasets) (3.3.2)\n",
      "Requirement already satisfied: idna<4,>=2.5 in c:\\users\\mattb\\appdata\\local\\programs\\python\\python311\\lib\\site-packages (from requests>=2.19.0->datasets) (3.7)\n",
      "Requirement already satisfied: urllib3<3,>=1.21.1 in c:\\users\\mattb\\appdata\\local\\programs\\python\\python311\\lib\\site-packages (from requests>=2.19.0->datasets) (2.2.1)\n",
      "Requirement already satisfied: certifi>=2017.4.17 in c:\\users\\mattb\\appdata\\local\\programs\\python\\python311\\lib\\site-packages (from requests>=2.19.0->datasets) (2024.2.2)\n",
      "Requirement already satisfied: parso<0.9.0,>=0.8.3 in c:\\users\\mattb\\appdata\\roaming\\python\\python311\\site-packages (from jedi>=0.16->ipython>=6.1.0->ipywidgets) (0.8.4)\n",
      "Requirement already satisfied: wcwidth in c:\\users\\mattb\\appdata\\roaming\\python\\python311\\site-packages (from prompt-toolkit<3.1.0,>=3.0.41->ipython>=6.1.0->ipywidgets) (0.2.13)\n",
      "Requirement already satisfied: executing>=1.2.0 in c:\\users\\mattb\\appdata\\roaming\\python\\python311\\site-packages (from stack-data->ipython>=6.1.0->ipywidgets) (2.0.1)\n",
      "Requirement already satisfied: asttokens>=2.1.0 in c:\\users\\mattb\\appdata\\roaming\\python\\python311\\site-packages (from stack-data->ipython>=6.1.0->ipywidgets) (2.4.1)\n",
      "Requirement already satisfied: pure-eval in c:\\users\\mattb\\appdata\\roaming\\python\\python311\\site-packages (from stack-data->ipython>=6.1.0->ipywidgets) (0.2.2)\n",
      "Note: you may need to restart the kernel to use updated packages.\n"
     ]
    }
   ],
   "source": [
    "%pip install datasets transformers pandas numpy huggingface_hub ipywidgets"
   ]
  },
  {
   "cell_type": "markdown",
   "metadata": {},
   "source": [
    "## Loading of inital dataset"
   ]
  },
  {
   "cell_type": "code",
   "execution_count": 33,
   "metadata": {},
   "outputs": [],
   "source": [
    "import pandas as pd\n",
    "from datasets import Dataset\n",
    "\n",
    "# load inital datafile\n",
    "initial_datafile = 'aita-datafiles/Reddit_AITA_2018_to_2022.csv' \n",
    "dataset = Dataset.from_pandas(pd.read_csv(initial_datafile))"
   ]
  },
  {
   "cell_type": "markdown",
   "metadata": {},
   "source": [
    "## Filter #1: Removal of samples where any of the submission titles, text, or top 10 comments don't exist"
   ]
  },
  {
   "cell_type": "code",
   "execution_count": 34,
   "metadata": {},
   "outputs": [],
   "source": [
    "# remove samples where any of the top comments are None or empty\n",
    "\n",
    "def remove_none_comments(example):\n",
    "    keys_to_check = [\n",
    "        'submission_title', 'submission_text', 'top_comment_1', 'top_comment_2', 'top_comment_3',\n",
    "        'top_comment_4', 'top_comment_5', 'top_comment_6', 'top_comment_7', 'top_comment_8',\n",
    "        'top_comment_9', 'top_comment_10'\n",
    "    ]\n",
    "    return all(example.get(key) not in (None, '') for key in keys_to_check)"
   ]
  },
  {
   "cell_type": "code",
   "execution_count": 35,
   "metadata": {},
   "outputs": [
    {
     "data": {
      "application/vnd.jupyter.widget-view+json": {
       "model_id": "3ddc75dffe1a422aaa98a3300d4936e1",
       "version_major": 2,
       "version_minor": 0
      },
      "text/plain": [
       "Filter:   0%|          | 0/160557 [00:00<?, ? examples/s]"
      ]
     },
     "metadata": {},
     "output_type": "display_data"
    }
   ],
   "source": [
    "dataset = dataset.filter(remove_none_comments)"
   ]
  },
  {
   "cell_type": "markdown",
   "metadata": {},
   "source": [
    "## Filter #2: Removal of samples where any comments did not contain an AITA decision\n",
    "- identified using earliest keyword matching according to the phrases for each AITA class in \"classes_dictionary\""
   ]
  },
  {
   "cell_type": "code",
   "execution_count": 36,
   "metadata": {},
   "outputs": [],
   "source": [
    "import re\n",
    "\n",
    "# Creation of AITA Decision Columns For Each Comment Using Earliest Keyword Matching\n",
    "\n",
    "classes_dictionary = {\n",
    "    'NTA': ['not the asshole', 'not the a**hole', 'not the a-hole', 'you would not be the asshole', 'you would not be the a**hole', 'you would not be the a-hole', 'not an asshole', 'not an a**hole', 'not an a-hole', 'you would not be an asshole', 'you would not be an a**hole', 'you would not be an a-hole', 'nta', 'n t a', 'ywnbta', 'y w n b t a'],\n",
    "    'NAH': ['no assholes here', 'no a**holes here', 'no a-holes here', 'no one is the asshole', 'no one is the a**hole', 'no one is the a-hole', 'no one would be the asshole', 'no one would be the a**hole', 'no one would be the a-hole', 'no one is an asshole', 'no one is an a**hole', 'no one is an a-hole', 'no one would be an asshole', 'no one would be an a**hole', 'no one would be an a-hole', 'nah', 'n a h'],\n",
    "    'ESH': ['everyone sucks here', 'everyone is the asshole', 'everyone is the a**hole', 'everyone is the a-hole', 'everyone would be the asshole', 'everyone would be the a**hole', 'everyone would be the a-hole', 'everyone is an asshole', 'everyone is an a**hole', 'everyone is an a-hole', 'everyone would be an asshole', 'everyone would be an a**hole', 'everyone would be an a-hole', 'esh', 'e s h'],\n",
    "    'YTA': ['you\\'re the asshole', 'you\\'re the a**hole', 'you\\'re the a-hole', 'youre the asshole', 'youre the a**hole', 'youre the a-hole', 'you are the asshole', 'you are the a**hole', 'you are the a-hole', 'you would be the asshole', 'you would be the a**hole', 'you would be the a-hole', 'you the asshole', 'you the a**hole', 'you the a-hole', 'you\\'re an asshole', 'you\\'re an a**hole', 'you\\'re an a-hole', 'youre an asshole', 'youre an a**hole', 'youre an a-hole', 'you are an asshole', 'you are an a**hole', 'you are an a-hole', 'you would be an asshole', 'you would be an a**hole', 'you would be an a-hole', 'you an asshole', 'you an a**hole', 'you an a-hole', 'yta', 'y t a', 'ywbta', 'y w b t a']\n",
    "}\n",
    "\n",
    "def find_earliest_classification(text):\n",
    "    '''\n",
    "    Find the earliest AITA classification in a text.\n",
    "\n",
    "    Args:\n",
    "        text (str): The text to search for AITA classifications in.\n",
    "\n",
    "    Returns:\n",
    "        str: The earliest classification found in the text.\n",
    "    '''\n",
    "\n",
    "    # track earliest match\n",
    "    earliest_match = None\n",
    "    earliest_match_pos = float('inf')  # Initially set to infinity\n",
    "\n",
    "    # convert input text to lowercase\n",
    "    text = text.lower()\n",
    "\n",
    "    # go through all classifications and their keywords\n",
    "    for key, phrases in classes_dictionary.items():\n",
    "        # Create a regex pattern that includes the classification keywords\n",
    "        pattern = r'\\b(' + '|'.join(map(re.escape, phrases)) + r')\\b'\n",
    "\n",
    "        # Search for any keywords in the input text\n",
    "        for match in re.finditer(pattern, text, re.IGNORECASE):\n",
    "            if match.start() < earliest_match_pos:\n",
    "                # Update the earliest match if this match is earlier\n",
    "                earliest_match = key\n",
    "                earliest_match_pos = match.start()\n",
    "\n",
    "    # return the class that had the earliest match\n",
    "    return earliest_match\n",
    "\n",
    "def add_classification(row):\n",
    "    '''\n",
    "    Add comment AITA classifications to a row in the dataset.\n",
    "\n",
    "    Args:\n",
    "        row (dict): A row from the dataset.\n",
    "\n",
    "    Returns:\n",
    "        dict: The row with comment AITA classifications added.\n",
    "    '''\n",
    "    # Iterate over top 10 comment keys\n",
    "    for i in range(1, 11):\n",
    "        key = f'top_comment_{i}'\n",
    "        classification_key = key + '_AITA_class_by_keyword'\n",
    "        if key in row and isinstance(row[key], str): # should be true since we guaranteed that all comments are strings earlier\n",
    "            # if this row has a top_comment_N key, get the classification and add it to the row\n",
    "            classification = find_earliest_classification(row[key])\n",
    "            row[classification_key] = classification\n",
    "        else:\n",
    "            # If the top_comment_N key doesn't exist or isn't a string, set the classification key to None\n",
    "            row[classification_key] = None\n",
    "\n",
    "    # return the row with the classification added\n",
    "    return row"
   ]
  },
  {
   "cell_type": "code",
   "execution_count": 37,
   "metadata": {},
   "outputs": [
    {
     "data": {
      "application/vnd.jupyter.widget-view+json": {
       "model_id": "c3df496ed2d34146853b228dd6408564",
       "version_major": 2,
       "version_minor": 0
      },
      "text/plain": [
       "Map:   0%|          | 0/130255 [00:00<?, ? examples/s]"
      ]
     },
     "metadata": {},
     "output_type": "display_data"
    }
   ],
   "source": [
    "dataset = dataset.map(add_classification)"
   ]
  },
  {
   "cell_type": "code",
   "execution_count": 38,
   "metadata": {},
   "outputs": [],
   "source": [
    "def remove_comments_with_no_AITA_class_keyword(example):\n",
    "    if example['top_comment_1_AITA_class_by_keyword'] is None or example['top_comment_2_AITA_class_by_keyword'] is None or example['top_comment_3_AITA_class_by_keyword'] is None or example['top_comment_4_AITA_class_by_keyword'] is None or example['top_comment_5_AITA_class_by_keyword'] is None or example['top_comment_6_AITA_class_by_keyword'] is None or example['top_comment_7_AITA_class_by_keyword'] is None or example['top_comment_8_AITA_class_by_keyword'] is None or example['top_comment_9_AITA_class_by_keyword'] is None or example['top_comment_10_AITA_class_by_keyword'] is None:\n",
    "        return False\n",
    "    return True"
   ]
  },
  {
   "cell_type": "code",
   "execution_count": 39,
   "metadata": {},
   "outputs": [
    {
     "data": {
      "application/vnd.jupyter.widget-view+json": {
       "model_id": "b0dca063fc56489dbeef8677b7b7e780",
       "version_major": 2,
       "version_minor": 0
      },
      "text/plain": [
       "Filter:   0%|          | 0/130255 [00:00<?, ? examples/s]"
      ]
     },
     "metadata": {},
     "output_type": "display_data"
    }
   ],
   "source": [
    "dataset = dataset.filter(remove_comments_with_no_AITA_class_keyword)\n",
    "dataset = dataset.remove_columns('__index_level_0__')"
   ]
  },
  {
   "cell_type": "markdown",
   "metadata": {},
   "source": [
    "# Filter #3: Removal of samples where the submission title or text have been removed or deleted\n",
    "- Comments are not of concern since any samples that have comment(s) which have been deleted or removed have already been filtered out due to having comment(s) that don't contain an AITA class keyword."
   ]
  },
  {
   "cell_type": "code",
   "execution_count": 40,
   "metadata": {},
   "outputs": [
    {
     "name": "stdout",
     "output_type": "stream",
     "text": [
      "MOST POPULAR SUBMISSION TITLES\n",
      " submission_title\n",
      "[deleted by user]                                         855\n",
      "AITA for not inviting my sister to my wedding?              5\n",
      "AITA for not shaving my legs?                               4\n",
      "AITA for not wanting to babysit?                            4\n",
      "AITA for not wanting my dad to walk me down the aisle?      4\n",
      "AITA for kicking my sister out of my house?                 4\n",
      "AITA for grounding my daughter                              4\n",
      "AITA for moving in with my dad?                             3\n",
      "[ Removed by Reddit ]                                       3\n",
      "AITA for telling the truth?                                 3\n",
      "AITA for changing my name?                                  3\n",
      "AITA for coming out?                                        3\n",
      "AITA for getting a tattoo?                                  3\n",
      "AITA for not changing my wedding date?                      3\n",
      "AITA for not letting my dad walk me down the aisle?         3\n",
      "AITA for not wearing a bra?                                 3\n",
      "AITA for kicking my sister out?                             3\n",
      "AITA for putting a lock on my door?                         3\n",
      "AITA for locking my door?                                   3\n",
      "AITA for making my mom cry?                                 3\n",
      "Name: count, dtype: int64\n",
      "\n",
      "MOST POPULAR SUBMISSION TEXTS\n",
      " submission_text\n",
      "[removed]                                                                                                                                                                                                                                                                                                                                                                                                                                                                                                                                                                                                                                                                                                                                                                                                                                                                                                                                                                                                                                                                                                                                                                                                                                                                                                                                                                                                                                                                                                                                                                                                                                                                                                                                                                                                                                                                                                                                                                                                                                                                                                                                                                                                                                                                                                                                                                                                                                                                                                                                                                                                                                                                                                                                                                                                                                                                                                                                                                                                                                                                                                                                                                11618\n",
      "[deleted]                                                                                                                                                                                                                                                                                                                                                                                                                                                                                                                                                                                                                                                                                                                                                                                                                                                                                                                                                                                                                                                                                                                                                                                                                                                                                                                                                                                                                                                                                                                                                                                                                                                                                                                                                                                                                                                                                                                                                                                                                                                                                                                                                                                                                                                                                                                                                                                                                                                                                                                                                                                                                                                                                                                                                                                                                                                                                                                                                                                                                                                                                                                                                                 4550\n",
      ".                                                                                                                                                                                                                                                                                                                                                                                                                                                                                                                                                                                                                                                                                                                                                                                                                                                                                                                                                                                                                                                                                                                                                                                                                                                                                                                                                                                                                                                                                                                                                                                                                                                                                                                                                                                                                                                                                                                                                                                                                                                                                                                                                                                                                                                                                                                                                                                                                                                                                                                                                                                                                                                                                                                                                                                                                                                                                                                                                                                                                                                                                                                                                                            3\n",
      "my wife (27f) and me (36m) were having thanksgiving dinner at my parents' house last thursday. My wife has this weird habit of eating with a teaspoon all the time, instead of a regular spoon so when she and my mom were setting the table, she took a teaspoon for herself. Anyways, when she was eating with it, my dad pointed it out to her and asked \"why on earth are you eating with that tiny spoon? Y'know eating in tiny mouths isn't gonna help you lose those extra pounds you have.\" I saw it as a harmless joke at the time and laughed along with it, so did my wife at the time but when we were going back hone she seemed annoyed with me and at first I didn't get why until she told me it was because I let my dad joke about her weight and didn't defend her. She has had some trouble with her weight lately but I didn't think she'd get so angry over the joke\\n\\nAt the time she seemed chill about the joke and it really seemed harmless, if someone joked about me that way I wouldn't take it to heart. Personally I don't think her reaction was reasonable and I dont get why she's still annoyed at me for it.\\n\\nEdit: yeah i get it, I'm the asshole. But how's it reasonable for my wife to still be mad at me 6 days later when I've apologised multiple times and I wasn't even the one who made the joke                                                                                                                                                                                                                                                                                                                                                                                                                                                                                                                                                                                                                                                                                                                                                                                                                                                                                                                                                                                                                                                                                                                                                                                                                                                                                                                                                                                                                                                                                                                                                                                                                                                                                                                                                                                                                           1\n",
      "I (F24) just moved to a big city, and so a lot of people want to stay at mine for new years eve to party in the city. I invited over 2 friends to stay for the holidays, and my mom messaged me to tell my my younger brother and cousin want to stay with me for NYE (both M22).\\n\\nThe reason I moved out of my hometown is that I had a very turbulent relationship with my brother. He would constantly steal from me when I lived at home, and it got to the point where I installed a lock on my bedroom door to stop the theft. This was of course a bit traumatic for me, and left me with some serious trust issues with my brother. We are not very close anymore and I don't keep in touch with him.\\n\\nFirstly, if my brother and cousin come at the same time that my friends are visiting, my place would be extremely cramped (I live in a 1bedroom). I also don't think that I would really enjoy my time with my friends if my brother came. If we each did our thing over the holidays, I still don't think I would be comfortable leaving my brother alone in my appartment without me there.\\n\\nWIBTA to tell my mom that I am not comfortable with my brother visiting me over the holidays? I would love if my cousin came, but he and my brother are best friends, and I don't think one would come without the other.                                                                                                                                                                                                                                                                                                                                                                                                                                                                                                                                                                                                                                                                                                                                                                                                                                                                                                                                                                                                                                                                                                                                                                                                                                                                                                                                                                                                                                                                                                                                                                                                                                                                                                                                                                                                                                1\n",
      "I’m 17 and I have 2 older sisters , and one younger brother and sister. My sister has recently had a baby and was having trouble keeping her house tidy as a single mother. I stayed with her for a week and she said she would give me money towards my drivers license if I cleaned her kitchen for her. (There were no dishes left clean and she was avoiding going in there.)\\n\\nI agreed, even though it would have taken me an entire day to get it properly clean cause there was trash everywhere too even with flies. I did it and the kitchen was sparking clean. Even the microwave and fridge. After I left back home I didn’t mention it for a while cause she was still new to being a mom but then two of my friends got their licenses.\\n\\nI brought it up to her and she said she didn’t remember telling me that and that she couldn’t afford it right now with the baby. I left it alone for a while.\\n\\nI asked her again the other day and she said point blank that she never said that. She definitely did because, even though I loved them both I wasn’t cleaning that mess for nothing.\\n\\nI mentioned it to my mother and she said not to lie about stuff like this when my sister had just given birth. This was three months after she said about it and four after she’d given birth. \\n\\nI had most of the money saved but I just needed the bit extra to have enough. I told my mother about everything that happened and she said to leave it alone. This is not the first time my older sister has promised me things and reneged. Theatre visits. Sleepover nights. Bike rides. Loads more. I guess I just wanted to believe her. My mother has always took her side.\\n\\nI had enough and explained everything to my dad becaus no one was listening to me. He told me to move in with him and I agreed. When I told my mom she broke down saying that she doesn’t favour my sister over any of us and that she needed me here to watch my younger brother when she was in work. For instance: my eldest sister got pregnant at 21 and she was extatic. My other sister got pregnant now at 21 and my mother is angry at her.\\n\\nI told her I wouldn’t be staying and needed some time to cool off and packed some clothes. My siblings won’t talk to me, not my pregnant sister, and blame me for upsetting my mom, calling me the asshole.\\n\\nEdit: my other sister does not agree with them. The only ones of us that live in the house is me my mother and my younger siblings but my little sister is 14.                                                                                                                                                                                                                                                                                                                                                                                                                                                                                                                                                                                                                            1\n",
      "I (18F) cut my hair into a pixie cut about three years ago, to donate it, my hair was to my waist before. And I spend the last year growing it out. I finally managed to get it to about shoulder length, after a lot of awkward phases, frustration, and patience. \\n\\nWell, a classmate of mine was just diagnosed with cancer. She's a nice person, and I honestly feel for her, but we're not friends. I barely know her since most classes have been online. \\n\\nHowever, some of her friends have shaved their heads to show support, and are pushing the rest of the class to shave their hair as well. When they asked me I explained that I've been growing out my hair for so long, and don't want to do all that again so soon. But that if our classmate needed any help if she missed any classes or homework that she could call/facetime me and I'd help. \\n\\nHer friends didn't take that well, and are now calling me selfish and mean. Even though most of the class didn't (three of her friends and two guys did, no one else). But they argue that I'm different and should do it too, to show support and because 'you already know what you look like with short hair, the other girls don't, so it's easier for you.' The classmate with cancer told them it's fine if I don't want to, and they didn't really have to do it either, but they're not letting it go. \\n\\nAITA?                                                                                                                                                                                                                                                                                                                                                                                                                                                                                                                                                                                                                                                                                                                                                                                                                                                                                                                                                                                                                                                                                                                                                                                                                                                                                                                                                                                                                                                                                                                                                                                                                                                                                                                                                                        1\n",
      "My mom and I have always had a bit of a strained relationship. I love her, but we’ve never had a typical mother/daughter relationship. I’m currently 21, turning 22 in a couple of weeks. (Edit - also worth mentioning that my dad left when my brother was diagnosed so he isn’t in the picture)\\n\\nMy younger brother, who is 11, has Sanfilippo syndrome, which is a genetic condition which in short gradually creates deterioration in the brain and nervous system. The current life expectancy is 10-20 years old, but my brother has deteriorated more quickly than expected, so is full care and can’t walk, talk, or do anything for himself. \\n\\nI go to college 4 days a week, which my mom pays for on the condition that I live at home and care for my brother when I’m not there. I love my brother, to absolute death, but I’m not a nurse and looking after him is exhausting. I’m expected to catheterize him, constantly monitor his vitals, keep note of his medications and more. It’s having a serious impact on my grades, and I’m pretty much on the verge of failing most of my classes. \\n\\nI’ve had a steady boyfriend for 3 years, and he’s asked me to move in with him. I said yes in excitement without thinking about asking my mom. When I told her, she went ballistic asking how I expect for her to care after my brother alone and that she’d stop paying for college as I was well aware of the conditions upon me going. If I stay at home, I’ll probably fail anyway. I get where she’s coming from but I’m 21 and so drained all the time. I’ve fallen asleep at parties, in class, on public transport because of how tired I am. AITA?                                                                                                                                                                                                                                                                                                                                                                                                                                                                                                                                                                                                                                                                                                                                                                                                                                                                                                                                                                                                                                                                                                                                                                                                                                                                                                                                                                                                                                                                                          1\n",
      "A couple of days ago my son got admitted to a Children's Hospital. Yesterday one of his doctors came in with two medical students, she introduced herself but the med students did not. While I was talking with the doctor the med students went to my son, who was sleeping in his crib, and started to examine him. Obviously this woke him up but at first I was just gonna go with it and keep my mouth shut. Then, still without saying a single word to me, they started to take his diaper off. I told the doctor to excuse me for a second and told the med students that they needed to leave the room immediately. One of them asked me why and I told them that they hadn't introduced themselves to me in any way, had never received my permission to touch my child(let alone take his diaper off), and therefore were not welcome in his room. The doctor was upset but I don't know if it was directed at me or the med students. Am I the asshole or was the way they presented themselves less than ideal?                                                                                                                                                                                                                                                                                                                                                                                                                                                                                                                                                                                                                                                                                                                                                                                                                                                                                                                                                                                                                                                                                                                                                                                                                                                                                                                                                                                                                                                                                                                                                                                                                                                                                                                                                                                                                                                                                                                                                                                                                                                                                                                                                1\n",
      "We were visiting my wife's parents. We don't visit at all. My wife doesn't have a good relationship with them.\\n\\nMy father law pulled me aside and told me that, he had to tell me something. He told me that I should reconsider the marriage because my wife is straight and she had never dated a woman before me. He also said my wife always loved the finer things in life and she married me because she couldn't find a rich man He said this with absolute sincerity.\\n\\nI didn't know what I could say to that and I ended joking that if she is straight, she is really great at faking orgasms. He was vey embarrassed by it and dropped the subject.\\n\\nMy wife is upset with me because she hated that I talked to her parents about our sex life and her mom found it really inappropriate and is telling her to be more respectful. I feel like an asshole because I didn't really defend her properly and embarassed her instead.                                                                                                                                                                                                                                                                                                                                                                                                                                                                                                                                                                                                                                                                                                                                                                                                                                                                                                                                                                                                                                                                                                                                                                                                                                                                                                                                                                                                                                                                                                                                                                                                                                                                                                                                                                                                                                                                                                                                                                                                                                                                                                                                                                                                                          1\n",
      "I got married 2 years ago to the love of my life. I feel like my mom doesn't really like her, but the relationship is mostly ok. Honestly I have a feeling since I got married I've been left out of a lot of stuff, but the only one I can prove is my mom's birthday trip. To be clear no one is straight up rude, but it is clear my mom and wife don't vibe and the rest of the family seems meh about her, which does make me sad.\\n\\nMy mom has a wall with a lot of pictures on it. There are plenty of pictures of my sister's partner and there are pictures of extended family but not a single one of my wife. My mom has pictures of her, because some of these were taken at events we were at, but she just choses the ones without my wife. Honestly this is not something I would have picked up on, but my wife did and it bothered her. my wife's family is HUGE on family, and while I don't think my MIL loves me, she definitely includes me in everything.\\n\\nI brought it up to my mom and she said she hadn't noticed. I said I didn't really believe her and she shrugged and said my wife isn't her daughter. I pointed out that my sister's partner isn't her son or my aunt's husband isn't her brother, but she has pictures of them. My mom said it was her house and the whole conversation is dumb. I said she can't exclude the love of my life, and my mom said this is a really pathetic thing to care about and we are being weird.\\n\\nMy wife was upset and feels like it was a clear statement, so I told my mom she could either put up some pictures of my wife, or we wouldn't be coming over. My mom said ok, don't come over. That was probably 4-5 months ago. I checked up about Christmas and asked if she had put up even one picture. my mom said no, she wasn't going to, we can't make her, and just don't come to Christmas and see if she cares.\\n\\nWell we won't be going to Christmas, but my sister is super pissed at me and thinks I'm an entitled asshole and I heard my stepdad was making fun of us. I don't feel too bad because everything I've read online talks about you have to be a united front                                                                                                                                                                                                                                                                                                                                                                                                                                                                                                                                                                                                                                                                                                                                                                                                                                                                                                                                                                                                          1\n",
      "For some context:\\nMy BioDad (now 46) never wanted children. He had me by mistake when he was about 25. He wasn’t necessarily a BAD dad but, has always been very disconnected. He has always been very open about how he never wanted children. And his attitude towards me has always been lukewarm at best. He treated me as more of a younger sibling, than his child. To his credit; He paid his child support on time.\\n\\nHe got married to his wife, let’s call her C, when I was about 8 years old. C has never liked me and is always putting me down. She has openly admitted that she enjoys making fun of me. And that it’s funny to hurt when she has clearly hurt my feelings. She has constantly degraded me, with BioDad sitting right there. He never says anything nor does he stick up for me. Other than the occasional birthday text, I no longer heard from BioDad.\\n\\n\\nOnto the Story:\\nI (Nb 21) had my first child in August 2021. The pregnancy was a massive surprise. When informing BioDad of the pregnancy, he was less than enthusiastic. I was received within “Oh.” followed by an immediate change in the subject.\\n\\nWell I attempted to give him the benefit of doubt. Stupid decision on my part. After my son was born, I did send pictures to BioDad. I got a “Thanks for the pictures”. No congratulations. No asking how we were all doing. Just a thank you.\\n\\nSon is now 3 months old. For Thanksgiving, we took pictures of him in a little turkey outfit. We don’t post pictures of Son on social media, of any form. And I really wanted to show people the super cute pictures we got. So I made a post asking if I could send people his pictures. C commenting saying, “You can always send your Dad and I pictures.” \\n\\nHere’s where I might be the asshole:\\nI told her, privately, that I would not be sending her or BioDad photos. When asked why, I told her that she has always been a bitch to me. That my son is not her privilege. That BioDad has allowed to happen for years. She knew that I was part of the deal, when marrying BioDad. If she had a problem with that she should have ended the relationship and found someone without a kid.\\n\\nI think I may have been to harsh on C but, it all just kinda poured out. Not sure if I was a full on asshole though.                                                                                                                                                                                                                                                                                                                                                                                                                                                                                                                                                                                                                                                                                                                                                                                                                                     1\n",
      "I really feel like I just stepped out of a soap opera, and I might be in the center of it as the asshole. Using a throwaway account.\\n\\nI (28F) work at a small, local sports bar. I have a coworker (25F) who we shall call Amanda (all names will be changed for this post). Amanda started dating one of our regulars, Nick, not quite two years ago. After a few months, she got pregnant and they got engaged pretty quickly after that. The baby is now 6 months old, and Amanda has two other kids- a 5 year old and a 3 year old- each from a different father as well. Nick was planning to adopt both of them after the wedding, as both other dads basically refuse to be in the picture and are willing to give up parental rights. \\n\\nAmanda and Nick were supposed to be getting married in two weeks. However, about a week ago, Nick came in on one of my bar shifts and seemed really down. I didn’t pry, but made friendly small talk, and after a few beers he told me an alarming confession. \\n\\nOne of our other regulars, Adam, reached out to Nick on social media. Apparently Adam and Amanda had been messing around at the same time that she and Nick were dating, and Amanda ghosted him just before announcing her engagement. Basically, Adam wanted Nick to be aware that the baby may not be his before going through with the wedding and the adoption.\\n\\nI was stunned, and told Nick that Adam is a bit unstable to begin with and might be lying out of jealousy as he’d always had a thing for Amanda. I asked if he had confronted Amanda and he said no, and told me he was at a loss as to what to do. I basically said he had two choices- either he loves Amanda and the baby enough to not care, or if he needed to know for sure, an answer was a paternity test away. \\n\\nWell he went with the paternity test. And guess who is not the father.\\n\\nAfter getting the results and confronting Amanda, Nick called off the wedding. According to another regular who is close with Nick, Amanda admitted to knowing the whole time, but went along with the baby being Nick’s because he is “financially stable” and she knew he would do the right thing and marry her. \\n\\nWord about the conversation between Nick and I got around, and Amanda has been texting me about how I ruined her life and I had no business butting in. She claims if I hadn’t suggested the paternity test, Nick never would have gotten one, and she’d have a husband and a father for her kids.\\n\\nAnd I feel like she might be right. I absolutely could have minded my own business and told Nick I had no advice for him. And I do feel bad that now she will be struggling with three small children on her own, being a single mother myself. \\n\\nAITA?                                                                                                                                                                                                                                                                                                                                                                                  1\n",
      "So I (M30) have been with my bf (M34) for 2 years. My mother is very homphobic and basically cut me out when she found out I was bi back when I first finished college. All my life she would try to control me. She would try to control what I wear, who I hang out with only to fit her definition of the perfect son. For example,I like to knit and she would throw away all my knitting acessories because it wasn't a hobby for \"boys\". I always told her its her own goddam fault for sending to an all boy school and that I had eyes 👀👀\\n\\nMy siblings have always been supportive of my lifestyle and we're very close. My older brother is getting married to his gf of 5 years and they will get married in July 2022. His fiancee is awesome, but her family is also very homophobic. Her mother and mine get along very well, and do many activities together. I have gone LC with my mother over the years. \\n\\nI love my brothers fiancé, but she has a tendancy of trying to please everyone around her... which means that when I got my invitation for the wedding, lo and behold, I was the only one with no +1. At first I thought it was a mistake, so I contacted his fiancé (since I knew she was the one taking care of the guest list and the RSVP) and she told me that they had to cut down the number of invitations because of covid, but I checked with my siblings and all of them got a +1. This really upset me and my bf, since he is very close to my brother (they went to uni together). \\n\\nI contacted my brother who of course had no idea that I didn't have a +1 and told me he'd take care of it. I then recieved a bunch of text messages from my SIL berating me for talking to my brother and that I should have just taken the one invitation. She told me she did this to prevent any problems with me and her side of the family, and my mother. \\n\\nShe also told me that she didn't want me and my bf to be the center of attention at her own wedding. She told me that she'll give me the +1 but that I'll be ruining her wedding. I've talked to friends and my siblings and they're mostly on my side... but some have told me that it's her wedding and that she has the right to invite who she wants. \\n\\nI think I might be the asshole because my mother's subtle homophobic remarks don't affect me anymore but I don't think it'll be fair to let my bf be subject to them and her family's homophobia, and that it is indeed her own wedding.\\n\\nEdit: Hello! Thanks for all the comments! I'll try to read all of them! I noticed some of you questioning my use of the word \"lifestyle\"... and honestly, it's how I've always referred to my life. It's how my mother always referred to \"my\" life growing up and it stuck with me. I feel like it's something I internalized... but I see how it can be detrimental to our identity... \\n\\nEdit 2: I haven't shown my brother the texts yet. My bf and him are supposed to have a gaming night in a couple days. My bf and I discussed what we  should do and we'll talk to him then. I think you're right, and that I should show him her texts.        1\n",
      "Me (43M) and my ex wife have a son Jacob  who's 15. He came out to us as bi in middle school ( we live in a really progressive part of NY so it's not uncommon for kids to be out early here). Now he got his first boyfriend Tony who's same age  last year and from what I can tell him and Tony are doing great.\\n\\n For the last few weeks I've noticed one of his wrestling teammates  Clark who's 16 coming around alot lately and last week  I caught them kissing in the back yard. Later that day I asked him what happened with Tony and he embarrassed said he didn't want to talk about it so I let it go for right then.  I  asked his mom about it  and she said just to leave it alone.\\n\\nWell Monday while picking him up from his mom's I noticed all 3 of them snuggled up and laying on eachother on the porch swing. I shocked just turned around abd got back in my car and waited without saying anything.  The other boys left hugging Jacob goodbye  and Jacob got in the car looking embarrassed. I  asked him  what that was about and he told me they were all dating. I was just like ok  like  polygamy? He got upset and said it's nothing like that.  I just said ok and I didn't say anything else cause I was kinda freaked out and I'm pretty sure he' could tell how uncomfortable I was.  His mom called me today and basically lambasted me about how I handled him telling me and said that he was upset with the way I was uncomfortable with him dating two people. AITA here ?                                                                                                                                                                                                                                                                                                                                                                                                                                                                                                                                                                                                                                                                                                                                                                                                                                                                                                                                                                                                                                                                                                                                                                                                                                                                                                                                                                                                                                                                                                                                                                                                                                                     1\n",
      "A bit of context: I HATE when people chew gum. It sets me off and just the sounds of it are enough to make me really angry and irritated. One incident even made me almost cry because I was listening to it for hours with no headphones. I'm pretty sure I have misophonia but not really sure since I only developed this in high school.\\n\\nTo why I'm here, I (19F) was in a study group for my calculus class. A friend group (2 girls and a guy) asked me to help them study for the upcoming final. I was more than happy to help because I was helping them with whatever they needed why I also prepare. Killing two birds with one stone.\\n\\nWhile we were studying, the guy (I'll call him Tom) put a piece of gum in his mouth and started chewing really loudly. I asked him politely if he could please chew with his mouth closed and he apologized. For a couple of minutes, it was quiet ... until he started chewing loudly again. I asked him again, trying to mask my irritation, to please chew with his mouth closed. He tsked at me but quit. A couple of minutes later, Tom got up and told me and the two girls (I'll call them Tina and Sam) that he was going to go to the restroom. We all said ok and resumed studying. 3 minutes passed and I can hear Tina and Sam. I looked up with confusion until Tom came really close to my ear and started smacking his gum. I shot up and pushed him away. At this point, I was in tears because I was so angry not only because of the gum but for the violation of my space. I asked him what the hell he thought he was doing and he just responded with \"It's just a harmless prank.\" I didn't want to study with this group of people anymore, so I started to pack up my stuff. They asked me where I was going and I responded with \"home.\" They tried to force me to stay, saying it was just a prank and meant nothing by it, but I was too angry and needed to get out so I can get the sound of gum out of my head.\\n\\nNow they are blowing up my phone, calling me all sorts of names that I don't even want to say here. I told some of my friends about this and some told me I shouldn't have left so abruptly since they really needed my help\\n\\nAITA?                                                                                                                                                                                                                                                                                                                                                                                                                                                                                                                                                                                                                                                                                                                                                                                                                                                                                                                               1\n",
      "Two days ago I walked our dog and realized my boyfriend parked in a spot where he could get a ticket between 9-5pm on workdays and he called in sick that day. \\n\\nSadly he already got a ticket but I still reparked his car where we normally park when we leave later, for which he was grateful. (I have my own car but sometimes commute with him). \\n\\nNow a day later in the evening he walks the dog and then comes back in and tells me that an inch of his back wheel is on the curb. I apologize because I didn’t see it. I’m also currently lying in bed. \\n\\nHe then asks me to repark the car so the wheel is not on the curb. I am baffled and ask him why he doesn’t just do it if he saw it. He thinks because I parked it there I should fix it. In my opinion its still his car and I did him a favor by moving it and parking it there in the first place. Am i the asshole for not getting up and parking the car again?                                                                                                                                                                                                                                                                                                                                                                                                                                                                                                                                                                                                                                                                                                                                                                                                                                                                                                                                                                                                                                                                                                                                                                                                                                                                                                                                                                                                                                                                                                                                                                                                                                                                                                                                                                                                                                                                                                                                                                                                                                                                                                                                                                                                                                1\n",
      "My dad and stepmom retired and moved 5 hours away a couple years ago.  They basically live in the middle of  nowhere and the closest town is a half hour away.Once he moved and got settled he kept saying I should visit.I had some vacation time so I went out there.  \\n\\nIt didn't  feel like a vacation,  if I slept  past 8, he'd wake me up, and every waking minute he wanted to do different activities.  Fishing, hiking, helping him with building a deck.  Then when I'd relax a bit and watch tv or go on my phone he'd ask me what I was doing and tell me \"no we're going to go do this\". \\n\\nI thought maybe it was something about  wanting to spend time together. So when our favorite baseball team played I said \"hey maybe wanna go into town and watch the game today, my treat\". He said \"no we can just listen to it on the radio outside while we're stringing the fishing poles for tomorrow\". \\n\\nIt's not that I have a problem with fishing or hiking or helping him with chores. I actually enjoy that stuff, but when I'm on VACATION  or even just taking my vacation time, I like to relax a bit and not go go go all day. I didn't say anything while I was there because I knew it would turn into a fight.\\n\\nI specifically remember a time when I was a kid, that my family went to our cabin.  My cousins and I decided to watch movies one day. My dad came in, turned the tv off and told us we needed to be outside having fun instead of sitting around being couch potatoes. \\n\\n\\nSo he was here for Thanksgiving. Him and my stepmom kept saying that I should come out this winter,  that we can go ice fishing and all this other stuff. \\n\\nI said \"yea, maybe but maybe I'll stay in a hotel this time\".  Stepmom said \"no no we have plenty of room\".  I said \"we'll see what my schedule looks like \".  My dad said \"you don't sound like you want to come out\".  I shrugged.  He said \"why don't you? we had fun\". \\n\\nI said \"fun for you wasn't really fun for me, being woken up at 8am while on vacation and then having all day every day planned for me was exhausting, vacation is supposed to be relaxing.\" \\n\\nHe said \"vacation time is so that you can do stuff that you can't when your working,  it's not just so you can lay around and be lazy, if you wanted to do that you should've stayed home and been a couch potato\". I said \"okay then I won't come out again \". He was mad and didn't really say much after that.\\n\\nMy stepmom said I hurt his feelings and it was unnecessary because he just wants to spend time with me. \\n\\nAITA for being honest when he asked                                                                                                                                                                                                                                                                                                                                                                                                                                                                                                                           1\n",
      "So my partner and I (both 27) just bought a house in a very competitive housing market. \\n\\nWe’ve been actively trying to get a house for over 3 months, and we had several contracts fall through because of seller issues. Additionally, in the weeks before closing, we had several large issues that almost made it so we wouldn’t be able to meet the closing date. Because of this, we’ve been very unsure if this was a “sure thing” until we closed yesterday.\\n\\nWe’ve lived at our current place (a Duplex) for almost 4 years, and had a variety of issues with the landlords, that live next door.\\n\\nThe issue we’re currently having is that we just told our current landlords that we’re moving out at the end of December - we want a whole month to move and I’m taking time off around Christmas to do so and make repairs.\\n\\nOne of them came over to our back door earlier and yelled at us, and apparently they’re super pissed. They’re leaving the country around that time and said that it was absolutely disrespectful that we didn’t give them more notice. They seem to think that we did it deliberately to be spiteful to them. I don’t know why they feel this way, as we’re on a month to month, and we didn’t even know they were leaving the country.\\n\\nAdditionally, now they’re saying that they can’t even trust us to move out without trashing the place. It makes me sad, because while we won’t miss them, this has been our home and we’re sad to leave.\\n\\nThey want to have a meeting tomorrow morning to talk about it, and now I’m worried that I’m being unreasonable.\\n\\nAm I the asshole?\\n\\nEdit: okay based on suggestions we’re getting nanny cams, and moving out ASAP. We’ll be getting it professionally cleaned, and filming how it looks when we leave (with an up to date newspaper). \\n\\nWe’re still planning on meeting with them this afternoon, because Idk if we can have a level-headed convo,  but hopefully we can give them some peace of mind.\\n\\nEdit 2: okay we had our meeting. Idk how level-headed it was. Basically they feel wronged that we didn’t give them more warning, and while they couldn’t tell us what they want, it kinda seems like they want us to move out two weeks early. They don’t want to give us any of our rent money back for December because “we’ve inconvenienced them”. \\nI also recorded the whole meeting which made them really mad. they said that even tho we’re doing the legal thing, that it’s not “nice”. They said that the fact that we’re trying to protect ourselves show where our true intentions lie.                                                                                                                                                                                                                                                                                                                                                                                                                                                                                                                                                1\n",
      "I'm (25M) a bisexual guy. I first realized I was bi in the 8th grade when I had my first gf and I  found myself enamored with her 9th grade older brother who I ended break up with her for...( not my proudest moment). I came out to my parents after they caught me kissing the brother  my 9th grade year. My mom took it fine , but my Dad doesn't believe I'm bi and is wholly convinced I'm just gay which isn't helped by the fact that  I'm usually more into guys and Ive mostly dated guys in highschool and college.  It's  left us a bit estranged \\n\\nHe tries to be supportive/progressive in his own way but he just doesn't believe in male bisexuality and assumes I'm lieng to any girl I date. I've been dating my recent fiance    Jessica (she knows I'm bi) for the last 3 yrs now and for that entire time my dad has outright told Jessica that he thinks I'm just gay and has tried get her to break up with me so I can be my true self. For this reason Jessica's parents have only really met my mom ( my parents are divorced)\\n\\nApparently Saturday my dad decided to search up Jessica's parents to  tell them what a huge mistake she's making and that I'm gay and leading their daughter on ( they don't know that I'm bi).  She's been getting calls from them all week about how she should reconsider the engagement and  asking if Im sure I love her. I went over my dad's last night and asked him why he Tru to freak out Jessica's parents like that . E told me I needed to stop lieng to myself and  to Jessica and just be  a gay man. I snapped and told him to go fuck his self and thar I was being my true self and that he was a fucking asshole for all the shit he pulled with Jessica. He tells me he's still my father and I shouldn't talk to him that way and  I tell to get fucked and I just left. My mom's upset that  I had a blow put with my dad like that and Jessica thinks I was to harsh on my dad because he's at least trying. AITA?=                                                                                                                                                                                                                                                                                                                                                                                                                                                                                                                                                                                                                                                                                                                                                                                                                                                                                                                                                                                                                                                                                                                                                                  1\n",
      "Name: count, dtype: int64\n"
     ]
    }
   ],
   "source": [
    "# get the most popular submission titles and texts to determine what Reddit uses for posts that are deleted or removed\n",
    "## indicates that...\n",
    "###  for submission titles this is done by either [deleted by user] or [ Removed by Reddit ]\n",
    "###  for submission text this is done by either [deleted], [removed], or '.' (a single period)\n",
    "\n",
    "df = dataset.to_pandas()\n",
    "print(f'MOST POPULAR SUBMISSION TITLES\\n {df[\"submission_title\"].value_counts()[:20]}')\n",
    "print()\n",
    "print(f'MOST POPULAR SUBMISSION TEXTS\\n {df[\"submission_text\"].value_counts()[:20]}')"
   ]
  },
  {
   "cell_type": "code",
   "execution_count": 41,
   "metadata": {},
   "outputs": [
    {
     "data": {
      "application/vnd.jupyter.widget-view+json": {
       "model_id": "a5b8d14b0af64a479f086a5aea9b0a45",
       "version_major": 2,
       "version_minor": 0
      },
      "text/plain": [
       "Filter:   0%|          | 0/47466 [00:00<?, ? examples/s]"
      ]
     },
     "metadata": {},
     "output_type": "display_data"
    }
   ],
   "source": [
    "# remove samples where the submission text is [deleted], [removed], or '.' (a single period) or the submission title is [deleted by user] or [ Removed by Reddit ]\n",
    "\n",
    "def remove_deleted_removed_posts(example):\n",
    "    if example['submission_text'] in ['[deleted]', '[removed]', '.'] or example['submission_title'] in ['[deleted by user]', '[ Removed by Reddit ]']:\n",
    "        return False\n",
    "    return True\n",
    "\n",
    "dataset = dataset.filter(remove_deleted_removed_posts)"
   ]
  },
  {
   "cell_type": "markdown",
   "metadata": {},
   "source": [
    "## Filter #3: Removal of Edits in both Submission Texts and Top Comments"
   ]
  },
  {
   "cell_type": "code",
   "execution_count": 42,
   "metadata": {},
   "outputs": [],
   "source": [
    "import re\n",
    "\n",
    "def remove_edits(text):\n",
    "  \"\"\"\n",
    "  Removes the edits portion of a text\n",
    "\n",
    "  Parameters:\n",
    "    text: A string containing the text.\n",
    "\n",
    "  Returns:\n",
    "    A string with the edits removed, if present.\n",
    "  \"\"\"\n",
    "\n",
    "  global edits_removed_counter\n",
    "\n",
    "  if text == None:\n",
    "    return text\n",
    "\n",
    "  text = text.lower()\n",
    "\n",
    "  pattern = r\"(edit:|edit -|edit-|eta:|eta -|eta-|edited:|edited -|edited-|edit after:|edit after- |edit after -|edit afterwards:|edit afterwards -|edit afterwards-|edited to add:|edited to add -|edited to add-|update:|update-|update -|updated:|updated-|updated -)\"\n",
    "  match = re.search(pattern, text, flags=re.IGNORECASE)\n",
    "  if match:\n",
    "      edits_removed_counter += 1 # increment the edits_removed_counter\n",
    "      return text[:match.start()].strip() # return the text up to the start of the match\n",
    "\n",
    "  return text"
   ]
  },
  {
   "cell_type": "code",
   "execution_count": 43,
   "metadata": {},
   "outputs": [
    {
     "data": {
      "application/vnd.jupyter.widget-view+json": {
       "model_id": "020c6cdb571e4532958550ec36d4e967",
       "version_major": 2,
       "version_minor": 0
      },
      "text/plain": [
       "Map:   0%|          | 0/31295 [00:00<?, ? examples/s]"
      ]
     },
     "metadata": {},
     "output_type": "display_data"
    },
    {
     "data": {
      "application/vnd.jupyter.widget-view+json": {
       "model_id": "cf49b747ffd84db0bb3a75da96c0bfe8",
       "version_major": 2,
       "version_minor": 0
      },
      "text/plain": [
       "Map:   0%|          | 0/31295 [00:00<?, ? examples/s]"
      ]
     },
     "metadata": {},
     "output_type": "display_data"
    },
    {
     "data": {
      "application/vnd.jupyter.widget-view+json": {
       "model_id": "9515d6e141fb4bc299e000172223e3fb",
       "version_major": 2,
       "version_minor": 0
      },
      "text/plain": [
       "Map:   0%|          | 0/31295 [00:00<?, ? examples/s]"
      ]
     },
     "metadata": {},
     "output_type": "display_data"
    },
    {
     "data": {
      "application/vnd.jupyter.widget-view+json": {
       "model_id": "b56488c76d264d8fbc656753d819541c",
       "version_major": 2,
       "version_minor": 0
      },
      "text/plain": [
       "Map:   0%|          | 0/31295 [00:00<?, ? examples/s]"
      ]
     },
     "metadata": {},
     "output_type": "display_data"
    },
    {
     "data": {
      "application/vnd.jupyter.widget-view+json": {
       "model_id": "3444aae7ac2f4de3b19a9e6f61efa93b",
       "version_major": 2,
       "version_minor": 0
      },
      "text/plain": [
       "Map:   0%|          | 0/31295 [00:00<?, ? examples/s]"
      ]
     },
     "metadata": {},
     "output_type": "display_data"
    },
    {
     "data": {
      "application/vnd.jupyter.widget-view+json": {
       "model_id": "ed944c74de6d441a9b02e1107e1527b8",
       "version_major": 2,
       "version_minor": 0
      },
      "text/plain": [
       "Map:   0%|          | 0/31295 [00:00<?, ? examples/s]"
      ]
     },
     "metadata": {},
     "output_type": "display_data"
    },
    {
     "data": {
      "application/vnd.jupyter.widget-view+json": {
       "model_id": "df713016a3b74a2f836aaee1f179fc17",
       "version_major": 2,
       "version_minor": 0
      },
      "text/plain": [
       "Map:   0%|          | 0/31295 [00:00<?, ? examples/s]"
      ]
     },
     "metadata": {},
     "output_type": "display_data"
    },
    {
     "data": {
      "application/vnd.jupyter.widget-view+json": {
       "model_id": "7330860fd7294db1a99b26977f561392",
       "version_major": 2,
       "version_minor": 0
      },
      "text/plain": [
       "Map:   0%|          | 0/31295 [00:00<?, ? examples/s]"
      ]
     },
     "metadata": {},
     "output_type": "display_data"
    },
    {
     "data": {
      "application/vnd.jupyter.widget-view+json": {
       "model_id": "66ea7c2e67244cf79b28b9d7728d9b2d",
       "version_major": 2,
       "version_minor": 0
      },
      "text/plain": [
       "Map:   0%|          | 0/31295 [00:00<?, ? examples/s]"
      ]
     },
     "metadata": {},
     "output_type": "display_data"
    },
    {
     "data": {
      "application/vnd.jupyter.widget-view+json": {
       "model_id": "c9b7c1bbdce24d7a96773410c1674d14",
       "version_major": 2,
       "version_minor": 0
      },
      "text/plain": [
       "Map:   0%|          | 0/31295 [00:00<?, ? examples/s]"
      ]
     },
     "metadata": {},
     "output_type": "display_data"
    },
    {
     "data": {
      "application/vnd.jupyter.widget-view+json": {
       "model_id": "feb0b8ffcb1143478814db138c5c67d1",
       "version_major": 2,
       "version_minor": 0
      },
      "text/plain": [
       "Map:   0%|          | 0/31295 [00:00<?, ? examples/s]"
      ]
     },
     "metadata": {},
     "output_type": "display_data"
    },
    {
     "data": {
      "application/vnd.jupyter.widget-view+json": {
       "model_id": "55fbae557156439193a9fd2112289df1",
       "version_major": 2,
       "version_minor": 0
      },
      "text/plain": [
       "Map:   0%|          | 0/31295 [00:00<?, ? examples/s]"
      ]
     },
     "metadata": {},
     "output_type": "display_data"
    },
    {
     "name": "stdout",
     "output_type": "stream",
     "text": [
      "Number of edits removed: 14344\n"
     ]
    }
   ],
   "source": [
    "edits_removed_counter = 0\n",
    "\n",
    "dataset = dataset.map(lambda x: {\"submission_title\": remove_edits(x[\"submission_title\"])})\n",
    "dataset = dataset.map(lambda x: {\"submission_text\": remove_edits(x[\"submission_text\"])})\n",
    "for i in range(1, 11):\n",
    "    dataset = dataset.map(lambda x: {f\"top_comment_{i}\": remove_edits(x[f\"top_comment_{i}\"])})\n",
    "\n",
    "print(f\"Number of edits removed: {edits_removed_counter}\")"
   ]
  },
  {
   "cell_type": "code",
   "execution_count": 45,
   "metadata": {},
   "outputs": [],
   "source": [
    "# remove samples where the removal of edits resulted in empty submission titles, texts, or top comments\n",
    "df = dataset.to_pandas()\n",
    "\n",
    "columns = [f'top_comment_{i}' for i in range(1, 11)]\n",
    "columns.append('submission_title')\n",
    "columns.append('submission_text')\n",
    "empty_string_indices = df[columns].apply(lambda row: any(cell == '' for cell in row), axis=1).index[df[columns].apply(lambda row: any(cell == '' for cell in row), axis=1)].tolist()\n",
    "\n",
    "df = df[~df.index.isin(empty_string_indices)]\n",
    "\n",
    "dataset = Dataset.from_pandas(df)"
   ]
  },
  {
   "cell_type": "markdown",
   "metadata": {},
   "source": [
    "## Filter #4: Removal of outliers (upper and lower 2.5%)"
   ]
  },
  {
   "cell_type": "code",
   "execution_count": 47,
   "metadata": {},
   "outputs": [
    {
     "data": {
      "application/vnd.jupyter.widget-view+json": {
       "model_id": "c1ca88c88db346c495f762001107af23",
       "version_major": 2,
       "version_minor": 0
      },
      "text/plain": [
       "Filter:   0%|          | 0/30880 [00:00<?, ? examples/s]"
      ]
     },
     "metadata": {},
     "output_type": "display_data"
    }
   ],
   "source": [
    "## remove outlier samples based on submission text length\n",
    "import numpy as np\n",
    "\n",
    "submission_text_lengths = np.array([len(text) for text in dataset['submission_text']])\n",
    "UPPER_BOUND = 97.5\n",
    "LOWER_BOUND = 2.5\n",
    "dataset = dataset.filter(lambda x: len(x['submission_text']) >= np.percentile(submission_text_lengths, LOWER_BOUND) and len(x['submission_text']) <= np.percentile(submission_text_lengths, UPPER_BOUND))"
   ]
  },
  {
   "cell_type": "markdown",
   "metadata": {},
   "source": [
    "## Train/Test Split\n",
    "- 10% of each AITA class (NTA, YTA, ESH, NAH) in test dataset"
   ]
  },
  {
   "cell_type": "code",
   "execution_count": null,
   "metadata": {},
   "outputs": [],
   "source": [
    "from datasets import DatasetDict, Dataset\n",
    "\n",
    "# Split the dataset based on the values of 'top_comment_1_AITA_class_by_keyword'\n",
    "nta_dataset = dataset['train'].filter(lambda x: x['top_comment_1_AITA_class_by_keyword'] == 'NTA')\n",
    "yta_dataset = dataset['train'].filter(lambda x: x['top_comment_1_AITA_class_by_keyword'] == 'YTA')\n",
    "esh_dataset = dataset['train'].filter(lambda x: x['top_comment_1_AITA_class_by_keyword'] == 'ESH')\n",
    "nah_dataset = dataset['train'].filter(lambda x: x['top_comment_1_AITA_class_by_keyword'] == 'NAH')\n",
    "\n",
    "# Create a new DatasetDict with the split datasets\n",
    "split_dataset = DatasetDict({\n",
    "    'train': DatasetDict({\n",
    "        'NTA': nta_dataset,\n",
    "        'YTA': yta_dataset,\n",
    "        'ESH': esh_dataset,\n",
    "        'NAH': nah_dataset\n",
    "    }),\n",
    "})\n",
    "\n",
    "dataset = split_dataset"
   ]
  },
  {
   "cell_type": "markdown",
   "metadata": {},
   "source": [
    "# Upload dataset to HuggingFace"
   ]
  },
  {
   "cell_type": "code",
   "execution_count": 58,
   "metadata": {},
   "outputs": [
    {
     "data": {
      "application/vnd.jupyter.widget-view+json": {
       "model_id": "1ba48de3d9fe4efe9ba00454bf3da89b",
       "version_major": 2,
       "version_minor": 0
      },
      "text/plain": [
       "Uploading the dataset shards:   0%|          | 0/1 [00:00<?, ?it/s]"
      ]
     },
     "metadata": {},
     "output_type": "display_data"
    },
    {
     "data": {
      "application/vnd.jupyter.widget-view+json": {
       "model_id": "92ff74b440e84222a63f197505f51626",
       "version_major": 2,
       "version_minor": 0
      },
      "text/plain": [
       "Creating parquet from Arrow format:   0%|          | 0/30 [00:00<?, ?ba/s]"
      ]
     },
     "metadata": {},
     "output_type": "display_data"
    },
    {
     "data": {
      "application/vnd.jupyter.widget-view+json": {
       "model_id": "e8ba0f8fd31842658e1ba4a3e45e1b7b",
       "version_major": 2,
       "version_minor": 0
      },
      "text/plain": [
       "README.md:   0%|          | 0.00/1.57k [00:00<?, ?B/s]"
      ]
     },
     "metadata": {},
     "output_type": "display_data"
    },
    {
     "name": "stderr",
     "output_type": "stream",
     "text": [
      "c:\\Users\\mattb\\AppData\\Local\\Programs\\Python\\Python311\\Lib\\site-packages\\huggingface_hub\\file_download.py:148: UserWarning: `huggingface_hub` cache-system uses symlinks by default to efficiently store duplicated files but your machine does not support them in C:\\Users\\mattb\\.cache\\huggingface\\hub\\datasets--MattBoraske--Reddit-AITA-2018-to-2022. Caching files will still work but in a degraded version that might require more space on your disk. This warning can be disabled by setting the `HF_HUB_DISABLE_SYMLINKS_WARNING` environment variable. For more details, see https://huggingface.co/docs/huggingface_hub/how-to-cache#limitations.\n",
      "To support symlinks on Windows, you either need to activate Developer Mode or to run Python as an administrator. In order to see activate developer mode, see this article: https://docs.microsoft.com/en-us/windows/apps/get-started/enable-your-device-for-development\n",
      "  warnings.warn(message)\n"
     ]
    },
    {
     "data": {
      "text/plain": [
       "CommitInfo(commit_url='https://huggingface.co/datasets/MattBoraske/Reddit-AITA-2018-to-2022/commit/617912a234efa935f9ef5058f08b2d29ca4f2740', commit_message='Upload dataset', commit_description='', oid='617912a234efa935f9ef5058f08b2d29ca4f2740', pr_url=None, pr_revision=None, pr_num=None)"
      ]
     },
     "execution_count": 58,
     "metadata": {},
     "output_type": "execute_result"
    }
   ],
   "source": [
    "dataset.push_to_hub('MattBoraske/Reddit-AITA-2018-to-2022')"
   ]
  }
 ],
 "metadata": {
  "kernelspec": {
   "display_name": "Python 3",
   "language": "python",
   "name": "python3"
  },
  "language_info": {
   "codemirror_mode": {
    "name": "ipython",
    "version": 3
   },
   "file_extension": ".py",
   "mimetype": "text/x-python",
   "name": "python",
   "nbconvert_exporter": "python",
   "pygments_lexer": "ipython3",
   "version": "3.11.8"
  }
 },
 "nbformat": 4,
 "nbformat_minor": 2
}
